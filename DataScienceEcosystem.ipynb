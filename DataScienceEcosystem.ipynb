{
 "cells": [
  {
   "cell_type": "markdown",
   "id": "bc376aa8-510e-40ba-9701-120d8e7d7111",
   "metadata": {},
   "source": [
    "# Data Science Tools and Ecosystem"
   ]
  },
  {
   "cell_type": "markdown",
   "id": "b18ab0ee-71c3-4432-a1df-621469732201",
   "metadata": {},
   "source": [
    "In this notebook, Data Science Tools and Ecosystem are summarized."
   ]
  },
  {
   "cell_type": "markdown",
   "id": "589998a3-df16-4927-a767-5691442068b8",
   "metadata": {},
   "source": [
    "**Objectives**\n",
    "- List examples of open-source tools used in data science.\n",
    "- List examples of commercial and cloud-based data science tools.\n",
    "- List examples of the various libraries: scientific, visualization, machine learning, and deep learning.\n",
    "- List the tasks that a data scientist needs to perform to build a model.\n",
    "- Describe the purpose of source repositories and explain how GitHub satisfies the needs of a source repository."
   ]
  },
  {
   "cell_type": "markdown",
   "id": "860a6190-f7ea-4169-a0f1-1308652ca98d",
   "metadata": {},
   "source": [
    "Some of the popular languages that Data Scientists use are:\n",
    "1. R\n",
    "2. Python\n",
    "3. SQL\n",
    "4. Scala\n",
    "5. Julia\n",
    "6. Java\n",
    "7. C/C++"
   ]
  },
  {
   "cell_type": "markdown",
   "id": "82028b75-2101-4f1a-990f-405df249f6bf",
   "metadata": {},
   "source": [
    "Some of the commonly used libraries used by Data Scientists include:\n",
    "1. Python libraries: Pandas, MunPy (scientific), Matplotlib, Seaborn (visualization), Scikit-learn, Keras, TenserFlow, PyTorch (deep learning)\n",
    "2. Scala libraries: vegas, BigDL\n",
    "3. R libraries: ggplot, dplyr, stringr, caret"
   ]
  },
  {
   "cell_type": "markdown",
   "id": "1b326e32-003d-4bc6-8ce4-a539d90061bf",
   "metadata": {},
   "source": [
    "| Data Science Tools |\n",
    "| ------------------ |\n",
    "| R-Studio |\n",
    "| Jupyter |\n",
    "| Spyder |\n",
    "| Apache Zeppelin |\n"
   ]
  },
  {
   "cell_type": "markdown",
   "id": "f820134f-d3f1-48fb-908f-7f360e7b8fd1",
   "metadata": {},
   "source": [
    "### Below are a few examples of evaluating arithmetic expressions in Python."
   ]
  },
  {
   "cell_type": "code",
   "execution_count": 1,
   "id": "6cbe5791-334c-4987-8855-900a1a093965",
   "metadata": {},
   "outputs": [
    {
     "data": {
      "text/plain": [
       "17"
      ]
     },
     "execution_count": 1,
     "metadata": {},
     "output_type": "execute_result"
    }
   ],
   "source": [
    "#  This a simple arithmetic expression to mutiply then add integers\n",
    "(3*4)+5"
   ]
  },
  {
   "cell_type": "code",
   "execution_count": 2,
   "id": "86b9414b-08d9-4297-89d7-f9233fbf88c3",
   "metadata": {},
   "outputs": [
    {
     "data": {
      "text/plain": [
       "3.3333333333333335"
      ]
     },
     "execution_count": 2,
     "metadata": {},
     "output_type": "execute_result"
    }
   ],
   "source": [
    "# This will convert 200 minutes to hours by diving by 60\n",
    "200 /60"
   ]
  },
  {
   "cell_type": "markdown",
   "id": "e62099fd-92e2-4dac-8a0b-60806550bad0",
   "metadata": {},
   "source": [
    "## Author\n",
    "Lucian Lacusta"
   ]
  }
 ],
 "metadata": {
  "kernelspec": {
   "display_name": "Python 3 (ipykernel)",
   "language": "python",
   "name": "python3"
  },
  "language_info": {
   "codemirror_mode": {
    "name": "ipython",
    "version": 3
   },
   "file_extension": ".py",
   "mimetype": "text/x-python",
   "name": "python",
   "nbconvert_exporter": "python",
   "pygments_lexer": "ipython3",
   "version": "3.11.7"
  }
 },
 "nbformat": 4,
 "nbformat_minor": 5
}
